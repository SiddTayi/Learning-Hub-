{
  "nbformat": 4,
  "nbformat_minor": 0,
  "metadata": {
    "colab": {
      "provenance": [],
      "authorship_tag": "ABX9TyPyRgChGAn4FVNo002HurOP"
    },
    "kernelspec": {
      "name": "python3",
      "display_name": "Python 3"
    },
    "language_info": {
      "name": "python"
    }
  },
  "cells": [
    {
      "cell_type": "code",
      "execution_count": 1,
      "metadata": {
        "colab": {
          "base_uri": "https://localhost:8080/"
        },
        "id": "AXSO4P59xccE",
        "outputId": "0f51495d-b9c3-415c-c5e0-1946313beedc"
      },
      "outputs": [
        {
          "output_type": "stream",
          "name": "stderr",
          "text": [
            "[nltk_data] Downloading package wordnet to /root/nltk_data...\n",
            "[nltk_data] Downloading package stopwords to /root/nltk_data...\n",
            "[nltk_data]   Unzipping corpora/stopwords.zip.\n"
          ]
        },
        {
          "output_type": "execute_result",
          "data": {
            "text/plain": [
              "True"
            ]
          },
          "metadata": {},
          "execution_count": 1
        }
      ],
      "source": [
        "# Load the dataset (https://www.kaggle.com/datasets/chandramoulinaidu/spam-classification-for-basic-nlp)\n",
        "\n",
        "import numpy as np\n",
        "import pandas as pd\n",
        "import matplotlib.pyplot as plt\n",
        "\n",
        "import nltk\n",
        "nltk.download(\"wordnet\")\n",
        "nltk.download(\"stopwords\")"
      ]
    },
    {
      "cell_type": "code",
      "source": [
        "git_url = 'https://raw.githubusercontent.com/SiddTayi/Learning-Hub-/refs/heads/main/NLP/SpamEmailText.csv'\n",
        "df = pd.read_csv(git_url)\n",
        "df.head()"
      ],
      "metadata": {
        "colab": {
          "base_uri": "https://localhost:8080/",
          "height": 206
        },
        "id": "7pWYXb8oz6LB",
        "outputId": "9e263d19-f05c-44d7-89f7-e3b87fc80e6f"
      },
      "execution_count": 2,
      "outputs": [
        {
          "output_type": "execute_result",
          "data": {
            "text/plain": [
              "   CATEGORY                                            MESSAGE  \\\n",
              "0         1  Dear Homeowner,\\n\\n \\n\\nInterest Rates are at ...   \n",
              "1         1  ATTENTION: This is a MUST for ALL Computer Use...   \n",
              "2         1  This is a multi-part message in MIME format.\\n...   \n",
              "3         1  IMPORTANT INFORMATION:\\n\\n\\n\\nThe new domain n...   \n",
              "4         1  This is the bottom line.  If you can GIVE AWAY...   \n",
              "\n",
              "                                FILE_NAME  \n",
              "0  00249.5f45607c1bffe89f60ba1ec9f878039a  \n",
              "1  00373.ebe8670ac56b04125c25100a36ab0510  \n",
              "2  00214.1367039e50dc6b7adb0f2aa8aba83216  \n",
              "3  00210.050ffd105bd4e006771ee63cabc59978  \n",
              "4  00033.9babb58d9298daa2963d4f514193d7d6  "
            ],
            "text/html": [
              "\n",
              "  <div id=\"df-b2eaa65a-2a5a-4378-bc26-8a128b067a82\" class=\"colab-df-container\">\n",
              "    <div>\n",
              "<style scoped>\n",
              "    .dataframe tbody tr th:only-of-type {\n",
              "        vertical-align: middle;\n",
              "    }\n",
              "\n",
              "    .dataframe tbody tr th {\n",
              "        vertical-align: top;\n",
              "    }\n",
              "\n",
              "    .dataframe thead th {\n",
              "        text-align: right;\n",
              "    }\n",
              "</style>\n",
              "<table border=\"1\" class=\"dataframe\">\n",
              "  <thead>\n",
              "    <tr style=\"text-align: right;\">\n",
              "      <th></th>\n",
              "      <th>CATEGORY</th>\n",
              "      <th>MESSAGE</th>\n",
              "      <th>FILE_NAME</th>\n",
              "    </tr>\n",
              "  </thead>\n",
              "  <tbody>\n",
              "    <tr>\n",
              "      <th>0</th>\n",
              "      <td>1</td>\n",
              "      <td>Dear Homeowner,\\n\\n \\n\\nInterest Rates are at ...</td>\n",
              "      <td>00249.5f45607c1bffe89f60ba1ec9f878039a</td>\n",
              "    </tr>\n",
              "    <tr>\n",
              "      <th>1</th>\n",
              "      <td>1</td>\n",
              "      <td>ATTENTION: This is a MUST for ALL Computer Use...</td>\n",
              "      <td>00373.ebe8670ac56b04125c25100a36ab0510</td>\n",
              "    </tr>\n",
              "    <tr>\n",
              "      <th>2</th>\n",
              "      <td>1</td>\n",
              "      <td>This is a multi-part message in MIME format.\\n...</td>\n",
              "      <td>00214.1367039e50dc6b7adb0f2aa8aba83216</td>\n",
              "    </tr>\n",
              "    <tr>\n",
              "      <th>3</th>\n",
              "      <td>1</td>\n",
              "      <td>IMPORTANT INFORMATION:\\n\\n\\n\\nThe new domain n...</td>\n",
              "      <td>00210.050ffd105bd4e006771ee63cabc59978</td>\n",
              "    </tr>\n",
              "    <tr>\n",
              "      <th>4</th>\n",
              "      <td>1</td>\n",
              "      <td>This is the bottom line.  If you can GIVE AWAY...</td>\n",
              "      <td>00033.9babb58d9298daa2963d4f514193d7d6</td>\n",
              "    </tr>\n",
              "  </tbody>\n",
              "</table>\n",
              "</div>\n",
              "    <div class=\"colab-df-buttons\">\n",
              "\n",
              "  <div class=\"colab-df-container\">\n",
              "    <button class=\"colab-df-convert\" onclick=\"convertToInteractive('df-b2eaa65a-2a5a-4378-bc26-8a128b067a82')\"\n",
              "            title=\"Convert this dataframe to an interactive table.\"\n",
              "            style=\"display:none;\">\n",
              "\n",
              "  <svg xmlns=\"http://www.w3.org/2000/svg\" height=\"24px\" viewBox=\"0 -960 960 960\">\n",
              "    <path d=\"M120-120v-720h720v720H120Zm60-500h600v-160H180v160Zm220 220h160v-160H400v160Zm0 220h160v-160H400v160ZM180-400h160v-160H180v160Zm440 0h160v-160H620v160ZM180-180h160v-160H180v160Zm440 0h160v-160H620v160Z\"/>\n",
              "  </svg>\n",
              "    </button>\n",
              "\n",
              "  <style>\n",
              "    .colab-df-container {\n",
              "      display:flex;\n",
              "      gap: 12px;\n",
              "    }\n",
              "\n",
              "    .colab-df-convert {\n",
              "      background-color: #E8F0FE;\n",
              "      border: none;\n",
              "      border-radius: 50%;\n",
              "      cursor: pointer;\n",
              "      display: none;\n",
              "      fill: #1967D2;\n",
              "      height: 32px;\n",
              "      padding: 0 0 0 0;\n",
              "      width: 32px;\n",
              "    }\n",
              "\n",
              "    .colab-df-convert:hover {\n",
              "      background-color: #E2EBFA;\n",
              "      box-shadow: 0px 1px 2px rgba(60, 64, 67, 0.3), 0px 1px 3px 1px rgba(60, 64, 67, 0.15);\n",
              "      fill: #174EA6;\n",
              "    }\n",
              "\n",
              "    .colab-df-buttons div {\n",
              "      margin-bottom: 4px;\n",
              "    }\n",
              "\n",
              "    [theme=dark] .colab-df-convert {\n",
              "      background-color: #3B4455;\n",
              "      fill: #D2E3FC;\n",
              "    }\n",
              "\n",
              "    [theme=dark] .colab-df-convert:hover {\n",
              "      background-color: #434B5C;\n",
              "      box-shadow: 0px 1px 3px 1px rgba(0, 0, 0, 0.15);\n",
              "      filter: drop-shadow(0px 1px 2px rgba(0, 0, 0, 0.3));\n",
              "      fill: #FFFFFF;\n",
              "    }\n",
              "  </style>\n",
              "\n",
              "    <script>\n",
              "      const buttonEl =\n",
              "        document.querySelector('#df-b2eaa65a-2a5a-4378-bc26-8a128b067a82 button.colab-df-convert');\n",
              "      buttonEl.style.display =\n",
              "        google.colab.kernel.accessAllowed ? 'block' : 'none';\n",
              "\n",
              "      async function convertToInteractive(key) {\n",
              "        const element = document.querySelector('#df-b2eaa65a-2a5a-4378-bc26-8a128b067a82');\n",
              "        const dataTable =\n",
              "          await google.colab.kernel.invokeFunction('convertToInteractive',\n",
              "                                                    [key], {});\n",
              "        if (!dataTable) return;\n",
              "\n",
              "        const docLinkHtml = 'Like what you see? Visit the ' +\n",
              "          '<a target=\"_blank\" href=https://colab.research.google.com/notebooks/data_table.ipynb>data table notebook</a>'\n",
              "          + ' to learn more about interactive tables.';\n",
              "        element.innerHTML = '';\n",
              "        dataTable['output_type'] = 'display_data';\n",
              "        await google.colab.output.renderOutput(dataTable, element);\n",
              "        const docLink = document.createElement('div');\n",
              "        docLink.innerHTML = docLinkHtml;\n",
              "        element.appendChild(docLink);\n",
              "      }\n",
              "    </script>\n",
              "  </div>\n",
              "\n",
              "\n",
              "<div id=\"df-885abbab-63e9-439a-ad98-3e222186be7f\">\n",
              "  <button class=\"colab-df-quickchart\" onclick=\"quickchart('df-885abbab-63e9-439a-ad98-3e222186be7f')\"\n",
              "            title=\"Suggest charts\"\n",
              "            style=\"display:none;\">\n",
              "\n",
              "<svg xmlns=\"http://www.w3.org/2000/svg\" height=\"24px\"viewBox=\"0 0 24 24\"\n",
              "     width=\"24px\">\n",
              "    <g>\n",
              "        <path d=\"M19 3H5c-1.1 0-2 .9-2 2v14c0 1.1.9 2 2 2h14c1.1 0 2-.9 2-2V5c0-1.1-.9-2-2-2zM9 17H7v-7h2v7zm4 0h-2V7h2v10zm4 0h-2v-4h2v4z\"/>\n",
              "    </g>\n",
              "</svg>\n",
              "  </button>\n",
              "\n",
              "<style>\n",
              "  .colab-df-quickchart {\n",
              "      --bg-color: #E8F0FE;\n",
              "      --fill-color: #1967D2;\n",
              "      --hover-bg-color: #E2EBFA;\n",
              "      --hover-fill-color: #174EA6;\n",
              "      --disabled-fill-color: #AAA;\n",
              "      --disabled-bg-color: #DDD;\n",
              "  }\n",
              "\n",
              "  [theme=dark] .colab-df-quickchart {\n",
              "      --bg-color: #3B4455;\n",
              "      --fill-color: #D2E3FC;\n",
              "      --hover-bg-color: #434B5C;\n",
              "      --hover-fill-color: #FFFFFF;\n",
              "      --disabled-bg-color: #3B4455;\n",
              "      --disabled-fill-color: #666;\n",
              "  }\n",
              "\n",
              "  .colab-df-quickchart {\n",
              "    background-color: var(--bg-color);\n",
              "    border: none;\n",
              "    border-radius: 50%;\n",
              "    cursor: pointer;\n",
              "    display: none;\n",
              "    fill: var(--fill-color);\n",
              "    height: 32px;\n",
              "    padding: 0;\n",
              "    width: 32px;\n",
              "  }\n",
              "\n",
              "  .colab-df-quickchart:hover {\n",
              "    background-color: var(--hover-bg-color);\n",
              "    box-shadow: 0 1px 2px rgba(60, 64, 67, 0.3), 0 1px 3px 1px rgba(60, 64, 67, 0.15);\n",
              "    fill: var(--button-hover-fill-color);\n",
              "  }\n",
              "\n",
              "  .colab-df-quickchart-complete:disabled,\n",
              "  .colab-df-quickchart-complete:disabled:hover {\n",
              "    background-color: var(--disabled-bg-color);\n",
              "    fill: var(--disabled-fill-color);\n",
              "    box-shadow: none;\n",
              "  }\n",
              "\n",
              "  .colab-df-spinner {\n",
              "    border: 2px solid var(--fill-color);\n",
              "    border-color: transparent;\n",
              "    border-bottom-color: var(--fill-color);\n",
              "    animation:\n",
              "      spin 1s steps(1) infinite;\n",
              "  }\n",
              "\n",
              "  @keyframes spin {\n",
              "    0% {\n",
              "      border-color: transparent;\n",
              "      border-bottom-color: var(--fill-color);\n",
              "      border-left-color: var(--fill-color);\n",
              "    }\n",
              "    20% {\n",
              "      border-color: transparent;\n",
              "      border-left-color: var(--fill-color);\n",
              "      border-top-color: var(--fill-color);\n",
              "    }\n",
              "    30% {\n",
              "      border-color: transparent;\n",
              "      border-left-color: var(--fill-color);\n",
              "      border-top-color: var(--fill-color);\n",
              "      border-right-color: var(--fill-color);\n",
              "    }\n",
              "    40% {\n",
              "      border-color: transparent;\n",
              "      border-right-color: var(--fill-color);\n",
              "      border-top-color: var(--fill-color);\n",
              "    }\n",
              "    60% {\n",
              "      border-color: transparent;\n",
              "      border-right-color: var(--fill-color);\n",
              "    }\n",
              "    80% {\n",
              "      border-color: transparent;\n",
              "      border-right-color: var(--fill-color);\n",
              "      border-bottom-color: var(--fill-color);\n",
              "    }\n",
              "    90% {\n",
              "      border-color: transparent;\n",
              "      border-bottom-color: var(--fill-color);\n",
              "    }\n",
              "  }\n",
              "</style>\n",
              "\n",
              "  <script>\n",
              "    async function quickchart(key) {\n",
              "      const quickchartButtonEl =\n",
              "        document.querySelector('#' + key + ' button');\n",
              "      quickchartButtonEl.disabled = true;  // To prevent multiple clicks.\n",
              "      quickchartButtonEl.classList.add('colab-df-spinner');\n",
              "      try {\n",
              "        const charts = await google.colab.kernel.invokeFunction(\n",
              "            'suggestCharts', [key], {});\n",
              "      } catch (error) {\n",
              "        console.error('Error during call to suggestCharts:', error);\n",
              "      }\n",
              "      quickchartButtonEl.classList.remove('colab-df-spinner');\n",
              "      quickchartButtonEl.classList.add('colab-df-quickchart-complete');\n",
              "    }\n",
              "    (() => {\n",
              "      let quickchartButtonEl =\n",
              "        document.querySelector('#df-885abbab-63e9-439a-ad98-3e222186be7f button');\n",
              "      quickchartButtonEl.style.display =\n",
              "        google.colab.kernel.accessAllowed ? 'block' : 'none';\n",
              "    })();\n",
              "  </script>\n",
              "</div>\n",
              "\n",
              "    </div>\n",
              "  </div>\n"
            ],
            "application/vnd.google.colaboratory.intrinsic+json": {
              "type": "dataframe",
              "variable_name": "df",
              "summary": "{\n  \"name\": \"df\",\n  \"rows\": 5796,\n  \"fields\": [\n    {\n      \"column\": \"CATEGORY\",\n      \"properties\": {\n        \"dtype\": \"number\",\n        \"std\": 0,\n        \"min\": 0,\n        \"max\": 1,\n        \"num_unique_values\": 2,\n        \"samples\": [\n          0,\n          1\n        ],\n        \"semantic_type\": \"\",\n        \"description\": \"\"\n      }\n    },\n    {\n      \"column\": \"MESSAGE\",\n      \"properties\": {\n        \"dtype\": \"string\",\n        \"num_unique_values\": 5625,\n        \"samples\": [\n          \"[Skip Montanaro]\\n\\n> Because I get mail through several different email addresses, I\\n\\n> frequently get duplicates (or triplicates or more-plicates) of\\n\\n> various spam messages.  In saving spam for later analysis I haven't\\n\\n> always been careful to avoid saving such duplicates.\\n\\n>\\n\\n> I wrote a script some time ago to try an minimize the duplicates I see\\n\\n> by calculating a loose checksum, but I still have some duplicates.\\n\\n> Should I delete the duplicates before training or not?\\n\\n\\n\\nPeople just can't stop thinking <wink>.  The classifier should work best\\n\\nwhen trained on a wholly random spattering of real life.  If real life\\n\\ncontains duplicates, then that's what the classifier should see.\\n\\n\\n\\n> Would people be interested in the script?  I'd be happy to extricate\\n\\n> it from my local modules and check it into CVS.\\n\\n\\n\\nSure!  I think it's relevant, but maybe for another purpose.  Paul Svensson\\n\\nis thinking harder about real people <wink> than the rest of us, and he may\\n\\nbe able to get use out of approaches that identify closely related spam.\\n\\nFor example, some amount of spam is going to end up in the ham training data\\n\\nin real life use, and any sort of similarity score to a piece of known spam\\n\\nmay be an aid in finding and purging it.\\n\\n\\n\",\n          \"<HTML><HEAD></HEAD><BODY><b><FONT SIZE=3D4>In a recent survey conducted by =\\n\\n<FONT COLOR=3D#0033FF><B>Durex</B>\\n\\n</FONT>condoms, <FONT COLOR=3D#FF0033>6=\\n\\n7%\\n\\n</FONT>of women said that<br>they are unhappy with the size of their lo=\\n\\nvers. Proof that <FONT COLOR=3D#FF0033>size does<br>matter</FONT>! A large=\\n\\n penis has much more surface area and is capable of<br>stimulating more ne=\\n\\nrve endings, providing more pleasure for you and your<br>partner. Our revo=\\n\\nlutionary pill developed by world famous pharmacist is<br>guaranteed to in=\\n\\ncrease your size by 1-3\\\".<BR><A HREF=3Dhttp://affiliate.vpgate.com/affilia=\\n\\ntewiz.asp?BannerID=3D1&AffiliateID=3D4&Task=3DClick>Enter here for details=\\n\\n</A></FONT><BR><b><BR><BR><BR><BR><BR><BR><BR><BR><BR><BR><BR><BR><BR><BR>=\\n\\n<BR><BR><BR><BR><BR><FONT SIZE=3D1 COLOR=3D#FFFFCC>To come off just <A HRE=\\n\\nF=3Dhttp://www.vpgate.com/remove>Open here</A></FONT></BODY></HTML>\\n\\n\\n\\n\\n\\n\\n\"\n        ],\n        \"semantic_type\": \"\",\n        \"description\": \"\"\n      }\n    },\n    {\n      \"column\": \"FILE_NAME\",\n      \"properties\": {\n        \"dtype\": \"string\",\n        \"num_unique_values\": 5796,\n        \"samples\": [\n          \"00420.f6140b71df992b02cc59548039eb05ca\",\n          \"00314.611159749e214b996589d557e335648e\"\n        ],\n        \"semantic_type\": \"\",\n        \"description\": \"\"\n      }\n    }\n  ]\n}"
            }
          },
          "metadata": {},
          "execution_count": 2
        }
      ]
    },
    {
      "cell_type": "markdown",
      "source": [
        "Spam Detection Target: CATEGORY\\\n",
        "1: Yes\\\n",
        "0: No"
      ],
      "metadata": {
        "id": "I1gDaAiTscc3"
      }
    },
    {
      "cell_type": "code",
      "source": [
        "df['CATEGORY'].value_counts()"
      ],
      "metadata": {
        "colab": {
          "base_uri": "https://localhost:8080/",
          "height": 178
        },
        "id": "xtdDtZPp0BvH",
        "outputId": "be1c6f1e-49bb-4f2e-a241-fb820844f267"
      },
      "execution_count": 3,
      "outputs": [
        {
          "output_type": "execute_result",
          "data": {
            "text/plain": [
              "CATEGORY\n",
              "0    3900\n",
              "1    1896\n",
              "Name: count, dtype: int64"
            ],
            "text/html": [
              "<div>\n",
              "<style scoped>\n",
              "    .dataframe tbody tr th:only-of-type {\n",
              "        vertical-align: middle;\n",
              "    }\n",
              "\n",
              "    .dataframe tbody tr th {\n",
              "        vertical-align: top;\n",
              "    }\n",
              "\n",
              "    .dataframe thead th {\n",
              "        text-align: right;\n",
              "    }\n",
              "</style>\n",
              "<table border=\"1\" class=\"dataframe\">\n",
              "  <thead>\n",
              "    <tr style=\"text-align: right;\">\n",
              "      <th></th>\n",
              "      <th>count</th>\n",
              "    </tr>\n",
              "    <tr>\n",
              "      <th>CATEGORY</th>\n",
              "      <th></th>\n",
              "    </tr>\n",
              "  </thead>\n",
              "  <tbody>\n",
              "    <tr>\n",
              "      <th>0</th>\n",
              "      <td>3900</td>\n",
              "    </tr>\n",
              "    <tr>\n",
              "      <th>1</th>\n",
              "      <td>1896</td>\n",
              "    </tr>\n",
              "  </tbody>\n",
              "</table>\n",
              "</div><br><label><b>dtype:</b> int64</label>"
            ]
          },
          "metadata": {},
          "execution_count": 3
        }
      ]
    },
    {
      "cell_type": "code",
      "source": [
        "tokenizer = nltk.RegexpTokenizer(r\"\\w+\")\n",
        "test = \"Hey,, GGgggG fell down. <HTML><bass> 'read' random\"\n",
        "test_tokenized = tokenizer.tokenize(test)\n",
        "test_tokenized"
      ],
      "metadata": {
        "colab": {
          "base_uri": "https://localhost:8080/"
        },
        "id": "BugGYFTGsbIv",
        "outputId": "6c4f39b1-942b-4533-fe14-96c654fdfe50"
      },
      "execution_count": 4,
      "outputs": [
        {
          "output_type": "execute_result",
          "data": {
            "text/plain": [
              "['Hey', 'GGgggG', 'fell', 'down', 'HTML', 'bass', 'read', 'random']"
            ]
          },
          "metadata": {},
          "execution_count": 4
        }
      ]
    },
    {
      "cell_type": "code",
      "source": [
        "import re\n",
        "# Email validation\n",
        "email_pattern = r\"^[\\w\\.-]+@[\\w\\.-]+\\.\\w+$\"\n",
        "print(re.match(email_pattern, \"user@example.com\"))"
      ],
      "metadata": {
        "id": "xhg8yPUy73XU",
        "colab": {
          "base_uri": "https://localhost:8080/"
        },
        "outputId": "34353564-ba20-4f5f-e616-d811e5baaec2"
      },
      "execution_count": 5,
      "outputs": [
        {
          "output_type": "stream",
          "name": "stdout",
          "text": [
            "<re.Match object; span=(0, 16), match='user@example.com'>\n"
          ]
        }
      ]
    },
    {
      "cell_type": "code",
      "source": [
        "# Convert the tokenized words: tokens to lower case\n",
        "lowercase_text = [t.lower() for t in test_tokenized]\n",
        "lowercase_text"
      ],
      "metadata": {
        "colab": {
          "base_uri": "https://localhost:8080/"
        },
        "id": "xUyCaje9pm3I",
        "outputId": "06573b7e-3197-4222-b46f-1123be5389d7"
      },
      "execution_count": 6,
      "outputs": [
        {
          "output_type": "execute_result",
          "data": {
            "text/plain": [
              "['hey', 'gggggg', 'fell', 'down', 'html', 'bass', 'read', 'random']"
            ]
          },
          "metadata": {},
          "execution_count": 6
        }
      ]
    },
    {
      "cell_type": "markdown",
      "source": [
        "## LEMMATIZING"
      ],
      "metadata": {
        "id": "8ffGgMK33NDa"
      }
    },
    {
      "cell_type": "code",
      "source": [
        "# Lemmatizing\n",
        "from nltk.stem import WordNetLemmatizer\n",
        "\n",
        "lem = WordNetLemmatizer()\n",
        "\n",
        "test_msg_lem_tokens = [lem.lemmatize(t) for t in lowercase_text]\n",
        "test_msg_lem_tokens"
      ],
      "metadata": {
        "colab": {
          "base_uri": "https://localhost:8080/"
        },
        "id": "k7eWYsYupnLW",
        "outputId": "f661de5e-eb6e-4419-9270-494c39bd0eb2"
      },
      "execution_count": 7,
      "outputs": [
        {
          "output_type": "execute_result",
          "data": {
            "text/plain": [
              "['hey', 'gggggg', 'fell', 'down', 'html', 'bass', 'read', 'random']"
            ]
          },
          "metadata": {},
          "execution_count": 7
        }
      ]
    },
    {
      "cell_type": "markdown",
      "source": [
        "## STOPWORDS"
      ],
      "metadata": {
        "id": "nC49m03p5rHz"
      }
    },
    {
      "cell_type": "markdown",
      "source": [
        "Stopwords: Most commonly used words in English such as: a, an, the, is, has, had, it, etc.\n",
        "\n",
        "Filtering the stopwords will not only save space but also decreases the time to understand and learn the text."
      ],
      "metadata": {
        "id": "Z93y9c5II-x0"
      }
    },
    {
      "cell_type": "code",
      "source": [
        "from nltk.corpus import stopwords\n",
        "\n",
        "stopwords = stopwords.words('english')\n",
        "\n",
        "# Get all the words that are not in the stopwords list\n",
        "test_msg_useful_tokens = [t for t in test_msg_lem_tokens if t not in stopwords]\n",
        "test_msg_useful_tokens\n"
      ],
      "metadata": {
        "colab": {
          "base_uri": "https://localhost:8080/"
        },
        "id": "wnJS18Vc5q2x",
        "outputId": "1de787aa-686b-4497-b879-82f4df6e96f6"
      },
      "execution_count": 8,
      "outputs": [
        {
          "output_type": "execute_result",
          "data": {
            "text/plain": [
              "['hey', 'gggggg', 'fell', 'html', 'bass', 'read', 'random']"
            ]
          },
          "metadata": {},
          "execution_count": 8
        }
      ]
    },
    {
      "cell_type": "markdown",
      "source": [
        "### COMBINE ALL THE FUNCTIONS IN ONE SINGLE FUNC."
      ],
      "metadata": {
        "id": "1Mbrq5MA87p7"
      }
    },
    {
      "cell_type": "code",
      "source": [
        "def transform_text(s):\n",
        "    # 1. Tokenize\n",
        "    token = tokenizer.tokenize(s)\n",
        "    # 2. Lower Case\n",
        "    lower_cased = [t.lower() for t in token]\n",
        "    # 3. Lemmatize\n",
        "    lem_token = [lem.lemmatize(t) for t in lower_cased]\n",
        "    # 4. Check for stopwords\n",
        "    useful_tokens = [t for t in lem_token if t not in stopwords]\n",
        "\n",
        "    return useful_tokens\n",
        "test = 'Hello, My name is SidT! Machine Learning is awesome!'\n",
        "transform_text(test)"
      ],
      "metadata": {
        "colab": {
          "base_uri": "https://localhost:8080/"
        },
        "id": "OjVMYoXG87X1",
        "outputId": "1a634cfd-61dc-492b-bab9-9857a73e536a"
      },
      "execution_count": 9,
      "outputs": [
        {
          "output_type": "execute_result",
          "data": {
            "text/plain": [
              "['hello', 'name', 'sidt', 'machine', 'learning', 'awesome']"
            ]
          },
          "metadata": {},
          "execution_count": 9
        }
      ]
    },
    {
      "cell_type": "markdown",
      "source": [
        "## PLAY WITH THE DATASET"
      ],
      "metadata": {
        "id": "4yRk8ea4AVG-"
      }
    },
    {
      "cell_type": "code",
      "source": [
        "df.head()"
      ],
      "metadata": {
        "colab": {
          "base_uri": "https://localhost:8080/",
          "height": 206
        },
        "id": "lx839EfNpnRF",
        "outputId": "eacb8768-95a0-4d10-93be-a64d48f939c4"
      },
      "execution_count": 10,
      "outputs": [
        {
          "output_type": "execute_result",
          "data": {
            "text/plain": [
              "   CATEGORY                                            MESSAGE  \\\n",
              "0         1  Dear Homeowner,\\n\\n \\n\\nInterest Rates are at ...   \n",
              "1         1  ATTENTION: This is a MUST for ALL Computer Use...   \n",
              "2         1  This is a multi-part message in MIME format.\\n...   \n",
              "3         1  IMPORTANT INFORMATION:\\n\\n\\n\\nThe new domain n...   \n",
              "4         1  This is the bottom line.  If you can GIVE AWAY...   \n",
              "\n",
              "                                FILE_NAME  \n",
              "0  00249.5f45607c1bffe89f60ba1ec9f878039a  \n",
              "1  00373.ebe8670ac56b04125c25100a36ab0510  \n",
              "2  00214.1367039e50dc6b7adb0f2aa8aba83216  \n",
              "3  00210.050ffd105bd4e006771ee63cabc59978  \n",
              "4  00033.9babb58d9298daa2963d4f514193d7d6  "
            ],
            "text/html": [
              "\n",
              "  <div id=\"df-7565afa1-6048-462f-8299-ff6f637fcd9f\" class=\"colab-df-container\">\n",
              "    <div>\n",
              "<style scoped>\n",
              "    .dataframe tbody tr th:only-of-type {\n",
              "        vertical-align: middle;\n",
              "    }\n",
              "\n",
              "    .dataframe tbody tr th {\n",
              "        vertical-align: top;\n",
              "    }\n",
              "\n",
              "    .dataframe thead th {\n",
              "        text-align: right;\n",
              "    }\n",
              "</style>\n",
              "<table border=\"1\" class=\"dataframe\">\n",
              "  <thead>\n",
              "    <tr style=\"text-align: right;\">\n",
              "      <th></th>\n",
              "      <th>CATEGORY</th>\n",
              "      <th>MESSAGE</th>\n",
              "      <th>FILE_NAME</th>\n",
              "    </tr>\n",
              "  </thead>\n",
              "  <tbody>\n",
              "    <tr>\n",
              "      <th>0</th>\n",
              "      <td>1</td>\n",
              "      <td>Dear Homeowner,\\n\\n \\n\\nInterest Rates are at ...</td>\n",
              "      <td>00249.5f45607c1bffe89f60ba1ec9f878039a</td>\n",
              "    </tr>\n",
              "    <tr>\n",
              "      <th>1</th>\n",
              "      <td>1</td>\n",
              "      <td>ATTENTION: This is a MUST for ALL Computer Use...</td>\n",
              "      <td>00373.ebe8670ac56b04125c25100a36ab0510</td>\n",
              "    </tr>\n",
              "    <tr>\n",
              "      <th>2</th>\n",
              "      <td>1</td>\n",
              "      <td>This is a multi-part message in MIME format.\\n...</td>\n",
              "      <td>00214.1367039e50dc6b7adb0f2aa8aba83216</td>\n",
              "    </tr>\n",
              "    <tr>\n",
              "      <th>3</th>\n",
              "      <td>1</td>\n",
              "      <td>IMPORTANT INFORMATION:\\n\\n\\n\\nThe new domain n...</td>\n",
              "      <td>00210.050ffd105bd4e006771ee63cabc59978</td>\n",
              "    </tr>\n",
              "    <tr>\n",
              "      <th>4</th>\n",
              "      <td>1</td>\n",
              "      <td>This is the bottom line.  If you can GIVE AWAY...</td>\n",
              "      <td>00033.9babb58d9298daa2963d4f514193d7d6</td>\n",
              "    </tr>\n",
              "  </tbody>\n",
              "</table>\n",
              "</div>\n",
              "    <div class=\"colab-df-buttons\">\n",
              "\n",
              "  <div class=\"colab-df-container\">\n",
              "    <button class=\"colab-df-convert\" onclick=\"convertToInteractive('df-7565afa1-6048-462f-8299-ff6f637fcd9f')\"\n",
              "            title=\"Convert this dataframe to an interactive table.\"\n",
              "            style=\"display:none;\">\n",
              "\n",
              "  <svg xmlns=\"http://www.w3.org/2000/svg\" height=\"24px\" viewBox=\"0 -960 960 960\">\n",
              "    <path d=\"M120-120v-720h720v720H120Zm60-500h600v-160H180v160Zm220 220h160v-160H400v160Zm0 220h160v-160H400v160ZM180-400h160v-160H180v160Zm440 0h160v-160H620v160ZM180-180h160v-160H180v160Zm440 0h160v-160H620v160Z\"/>\n",
              "  </svg>\n",
              "    </button>\n",
              "\n",
              "  <style>\n",
              "    .colab-df-container {\n",
              "      display:flex;\n",
              "      gap: 12px;\n",
              "    }\n",
              "\n",
              "    .colab-df-convert {\n",
              "      background-color: #E8F0FE;\n",
              "      border: none;\n",
              "      border-radius: 50%;\n",
              "      cursor: pointer;\n",
              "      display: none;\n",
              "      fill: #1967D2;\n",
              "      height: 32px;\n",
              "      padding: 0 0 0 0;\n",
              "      width: 32px;\n",
              "    }\n",
              "\n",
              "    .colab-df-convert:hover {\n",
              "      background-color: #E2EBFA;\n",
              "      box-shadow: 0px 1px 2px rgba(60, 64, 67, 0.3), 0px 1px 3px 1px rgba(60, 64, 67, 0.15);\n",
              "      fill: #174EA6;\n",
              "    }\n",
              "\n",
              "    .colab-df-buttons div {\n",
              "      margin-bottom: 4px;\n",
              "    }\n",
              "\n",
              "    [theme=dark] .colab-df-convert {\n",
              "      background-color: #3B4455;\n",
              "      fill: #D2E3FC;\n",
              "    }\n",
              "\n",
              "    [theme=dark] .colab-df-convert:hover {\n",
              "      background-color: #434B5C;\n",
              "      box-shadow: 0px 1px 3px 1px rgba(0, 0, 0, 0.15);\n",
              "      filter: drop-shadow(0px 1px 2px rgba(0, 0, 0, 0.3));\n",
              "      fill: #FFFFFF;\n",
              "    }\n",
              "  </style>\n",
              "\n",
              "    <script>\n",
              "      const buttonEl =\n",
              "        document.querySelector('#df-7565afa1-6048-462f-8299-ff6f637fcd9f button.colab-df-convert');\n",
              "      buttonEl.style.display =\n",
              "        google.colab.kernel.accessAllowed ? 'block' : 'none';\n",
              "\n",
              "      async function convertToInteractive(key) {\n",
              "        const element = document.querySelector('#df-7565afa1-6048-462f-8299-ff6f637fcd9f');\n",
              "        const dataTable =\n",
              "          await google.colab.kernel.invokeFunction('convertToInteractive',\n",
              "                                                    [key], {});\n",
              "        if (!dataTable) return;\n",
              "\n",
              "        const docLinkHtml = 'Like what you see? Visit the ' +\n",
              "          '<a target=\"_blank\" href=https://colab.research.google.com/notebooks/data_table.ipynb>data table notebook</a>'\n",
              "          + ' to learn more about interactive tables.';\n",
              "        element.innerHTML = '';\n",
              "        dataTable['output_type'] = 'display_data';\n",
              "        await google.colab.output.renderOutput(dataTable, element);\n",
              "        const docLink = document.createElement('div');\n",
              "        docLink.innerHTML = docLinkHtml;\n",
              "        element.appendChild(docLink);\n",
              "      }\n",
              "    </script>\n",
              "  </div>\n",
              "\n",
              "\n",
              "<div id=\"df-f2c001c7-ef41-4bfa-8ab9-3668af626472\">\n",
              "  <button class=\"colab-df-quickchart\" onclick=\"quickchart('df-f2c001c7-ef41-4bfa-8ab9-3668af626472')\"\n",
              "            title=\"Suggest charts\"\n",
              "            style=\"display:none;\">\n",
              "\n",
              "<svg xmlns=\"http://www.w3.org/2000/svg\" height=\"24px\"viewBox=\"0 0 24 24\"\n",
              "     width=\"24px\">\n",
              "    <g>\n",
              "        <path d=\"M19 3H5c-1.1 0-2 .9-2 2v14c0 1.1.9 2 2 2h14c1.1 0 2-.9 2-2V5c0-1.1-.9-2-2-2zM9 17H7v-7h2v7zm4 0h-2V7h2v10zm4 0h-2v-4h2v4z\"/>\n",
              "    </g>\n",
              "</svg>\n",
              "  </button>\n",
              "\n",
              "<style>\n",
              "  .colab-df-quickchart {\n",
              "      --bg-color: #E8F0FE;\n",
              "      --fill-color: #1967D2;\n",
              "      --hover-bg-color: #E2EBFA;\n",
              "      --hover-fill-color: #174EA6;\n",
              "      --disabled-fill-color: #AAA;\n",
              "      --disabled-bg-color: #DDD;\n",
              "  }\n",
              "\n",
              "  [theme=dark] .colab-df-quickchart {\n",
              "      --bg-color: #3B4455;\n",
              "      --fill-color: #D2E3FC;\n",
              "      --hover-bg-color: #434B5C;\n",
              "      --hover-fill-color: #FFFFFF;\n",
              "      --disabled-bg-color: #3B4455;\n",
              "      --disabled-fill-color: #666;\n",
              "  }\n",
              "\n",
              "  .colab-df-quickchart {\n",
              "    background-color: var(--bg-color);\n",
              "    border: none;\n",
              "    border-radius: 50%;\n",
              "    cursor: pointer;\n",
              "    display: none;\n",
              "    fill: var(--fill-color);\n",
              "    height: 32px;\n",
              "    padding: 0;\n",
              "    width: 32px;\n",
              "  }\n",
              "\n",
              "  .colab-df-quickchart:hover {\n",
              "    background-color: var(--hover-bg-color);\n",
              "    box-shadow: 0 1px 2px rgba(60, 64, 67, 0.3), 0 1px 3px 1px rgba(60, 64, 67, 0.15);\n",
              "    fill: var(--button-hover-fill-color);\n",
              "  }\n",
              "\n",
              "  .colab-df-quickchart-complete:disabled,\n",
              "  .colab-df-quickchart-complete:disabled:hover {\n",
              "    background-color: var(--disabled-bg-color);\n",
              "    fill: var(--disabled-fill-color);\n",
              "    box-shadow: none;\n",
              "  }\n",
              "\n",
              "  .colab-df-spinner {\n",
              "    border: 2px solid var(--fill-color);\n",
              "    border-color: transparent;\n",
              "    border-bottom-color: var(--fill-color);\n",
              "    animation:\n",
              "      spin 1s steps(1) infinite;\n",
              "  }\n",
              "\n",
              "  @keyframes spin {\n",
              "    0% {\n",
              "      border-color: transparent;\n",
              "      border-bottom-color: var(--fill-color);\n",
              "      border-left-color: var(--fill-color);\n",
              "    }\n",
              "    20% {\n",
              "      border-color: transparent;\n",
              "      border-left-color: var(--fill-color);\n",
              "      border-top-color: var(--fill-color);\n",
              "    }\n",
              "    30% {\n",
              "      border-color: transparent;\n",
              "      border-left-color: var(--fill-color);\n",
              "      border-top-color: var(--fill-color);\n",
              "      border-right-color: var(--fill-color);\n",
              "    }\n",
              "    40% {\n",
              "      border-color: transparent;\n",
              "      border-right-color: var(--fill-color);\n",
              "      border-top-color: var(--fill-color);\n",
              "    }\n",
              "    60% {\n",
              "      border-color: transparent;\n",
              "      border-right-color: var(--fill-color);\n",
              "    }\n",
              "    80% {\n",
              "      border-color: transparent;\n",
              "      border-right-color: var(--fill-color);\n",
              "      border-bottom-color: var(--fill-color);\n",
              "    }\n",
              "    90% {\n",
              "      border-color: transparent;\n",
              "      border-bottom-color: var(--fill-color);\n",
              "    }\n",
              "  }\n",
              "</style>\n",
              "\n",
              "  <script>\n",
              "    async function quickchart(key) {\n",
              "      const quickchartButtonEl =\n",
              "        document.querySelector('#' + key + ' button');\n",
              "      quickchartButtonEl.disabled = true;  // To prevent multiple clicks.\n",
              "      quickchartButtonEl.classList.add('colab-df-spinner');\n",
              "      try {\n",
              "        const charts = await google.colab.kernel.invokeFunction(\n",
              "            'suggestCharts', [key], {});\n",
              "      } catch (error) {\n",
              "        console.error('Error during call to suggestCharts:', error);\n",
              "      }\n",
              "      quickchartButtonEl.classList.remove('colab-df-spinner');\n",
              "      quickchartButtonEl.classList.add('colab-df-quickchart-complete');\n",
              "    }\n",
              "    (() => {\n",
              "      let quickchartButtonEl =\n",
              "        document.querySelector('#df-f2c001c7-ef41-4bfa-8ab9-3668af626472 button');\n",
              "      quickchartButtonEl.style.display =\n",
              "        google.colab.kernel.accessAllowed ? 'block' : 'none';\n",
              "    })();\n",
              "  </script>\n",
              "</div>\n",
              "\n",
              "    </div>\n",
              "  </div>\n"
            ],
            "application/vnd.google.colaboratory.intrinsic+json": {
              "type": "dataframe",
              "variable_name": "df",
              "summary": "{\n  \"name\": \"df\",\n  \"rows\": 5796,\n  \"fields\": [\n    {\n      \"column\": \"CATEGORY\",\n      \"properties\": {\n        \"dtype\": \"number\",\n        \"std\": 0,\n        \"min\": 0,\n        \"max\": 1,\n        \"num_unique_values\": 2,\n        \"samples\": [\n          0,\n          1\n        ],\n        \"semantic_type\": \"\",\n        \"description\": \"\"\n      }\n    },\n    {\n      \"column\": \"MESSAGE\",\n      \"properties\": {\n        \"dtype\": \"string\",\n        \"num_unique_values\": 5625,\n        \"samples\": [\n          \"[Skip Montanaro]\\n\\n> Because I get mail through several different email addresses, I\\n\\n> frequently get duplicates (or triplicates or more-plicates) of\\n\\n> various spam messages.  In saving spam for later analysis I haven't\\n\\n> always been careful to avoid saving such duplicates.\\n\\n>\\n\\n> I wrote a script some time ago to try an minimize the duplicates I see\\n\\n> by calculating a loose checksum, but I still have some duplicates.\\n\\n> Should I delete the duplicates before training or not?\\n\\n\\n\\nPeople just can't stop thinking <wink>.  The classifier should work best\\n\\nwhen trained on a wholly random spattering of real life.  If real life\\n\\ncontains duplicates, then that's what the classifier should see.\\n\\n\\n\\n> Would people be interested in the script?  I'd be happy to extricate\\n\\n> it from my local modules and check it into CVS.\\n\\n\\n\\nSure!  I think it's relevant, but maybe for another purpose.  Paul Svensson\\n\\nis thinking harder about real people <wink> than the rest of us, and he may\\n\\nbe able to get use out of approaches that identify closely related spam.\\n\\nFor example, some amount of spam is going to end up in the ham training data\\n\\nin real life use, and any sort of similarity score to a piece of known spam\\n\\nmay be an aid in finding and purging it.\\n\\n\\n\",\n          \"<HTML><HEAD></HEAD><BODY><b><FONT SIZE=3D4>In a recent survey conducted by =\\n\\n<FONT COLOR=3D#0033FF><B>Durex</B>\\n\\n</FONT>condoms, <FONT COLOR=3D#FF0033>6=\\n\\n7%\\n\\n</FONT>of women said that<br>they are unhappy with the size of their lo=\\n\\nvers. Proof that <FONT COLOR=3D#FF0033>size does<br>matter</FONT>! A large=\\n\\n penis has much more surface area and is capable of<br>stimulating more ne=\\n\\nrve endings, providing more pleasure for you and your<br>partner. Our revo=\\n\\nlutionary pill developed by world famous pharmacist is<br>guaranteed to in=\\n\\ncrease your size by 1-3\\\".<BR><A HREF=3Dhttp://affiliate.vpgate.com/affilia=\\n\\ntewiz.asp?BannerID=3D1&AffiliateID=3D4&Task=3DClick>Enter here for details=\\n\\n</A></FONT><BR><b><BR><BR><BR><BR><BR><BR><BR><BR><BR><BR><BR><BR><BR><BR>=\\n\\n<BR><BR><BR><BR><BR><FONT SIZE=3D1 COLOR=3D#FFFFCC>To come off just <A HRE=\\n\\nF=3Dhttp://www.vpgate.com/remove>Open here</A></FONT></BODY></HTML>\\n\\n\\n\\n\\n\\n\\n\"\n        ],\n        \"semantic_type\": \"\",\n        \"description\": \"\"\n      }\n    },\n    {\n      \"column\": \"FILE_NAME\",\n      \"properties\": {\n        \"dtype\": \"string\",\n        \"num_unique_values\": 5796,\n        \"samples\": [\n          \"00420.f6140b71df992b02cc59548039eb05ca\",\n          \"00314.611159749e214b996589d557e335648e\"\n        ],\n        \"semantic_type\": \"\",\n        \"description\": \"\"\n      }\n    }\n  ]\n}"
            }
          },
          "metadata": {},
          "execution_count": 10
        }
      ]
    },
    {
      "cell_type": "code",
      "source": [
        "# Drop the index column\n",
        "df = df.sample(frac = 1, random_state = 1)\n",
        "df = df.reset_index(drop = True)\n",
        "\n",
        "# Train and Test set\n",
        "split_ratio = int(len(df)*0.8)\n",
        "train_df, test_df = df[:split_ratio], df[split_ratio:]\n",
        "\n",
        "train_df = train_df.reset_index(drop = True)\n",
        "test_df = test_df.reset_index(drop = True)\n",
        "\n",
        "\n",
        "df.shape, train_df.shape, test_df.shape"
      ],
      "metadata": {
        "colab": {
          "base_uri": "https://localhost:8080/"
        },
        "id": "kdfytS6kpnWn",
        "outputId": "cb2089d6-58db-486a-b185-fae6e57f8a39"
      },
      "execution_count": 11,
      "outputs": [
        {
          "output_type": "execute_result",
          "data": {
            "text/plain": [
              "((5796, 3), (4636, 3), (1160, 3))"
            ]
          },
          "metadata": {},
          "execution_count": 11
        }
      ]
    },
    {
      "cell_type": "code",
      "source": [
        "train_df.head()"
      ],
      "metadata": {
        "colab": {
          "base_uri": "https://localhost:8080/",
          "height": 206
        },
        "id": "XpS2-mGvpnbu",
        "outputId": "8eac61a8-955d-454e-f20f-a96ce826d013"
      },
      "execution_count": 12,
      "outputs": [
        {
          "output_type": "execute_result",
          "data": {
            "text/plain": [
              "   CATEGORY                                            MESSAGE  \\\n",
              "0         1  \\n\\n<HTML><FONT  BACK=\"#ffffff\" style=\"BACKGRO...   \n",
              "1         1  <html><body bgColor=\"#CCCCCC\" topmargin=1 onMo...   \n",
              "2         0  Quoting Paul Linehan (plinehan@yahoo.com):\\n\\n...   \n",
              "3         0  <a href=http://www.aaronsw.com/weblog/>\\n\\nAar...   \n",
              "4         0  Oh yeah, the link for more info:\\n\\n\\n\\nhttp:/...   \n",
              "\n",
              "                                FILE_NAME  \n",
              "0  00118.141d803810acd9d4fc23db103dddfcd9  \n",
              "1  00463.0bc4e08af0529dd773d9f10f922547db  \n",
              "2  00358.87ee38040ac1f42320c7b89628b1850a  \n",
              "3  01274.0d083a2d3b30061efdc2cc73ee9e76e3  \n",
              "4  00756.2b2ec73ad20a4e0bdf31632ac019233b  "
            ],
            "text/html": [
              "\n",
              "  <div id=\"df-ad0dcb24-7074-4798-9e2f-0bc771465493\" class=\"colab-df-container\">\n",
              "    <div>\n",
              "<style scoped>\n",
              "    .dataframe tbody tr th:only-of-type {\n",
              "        vertical-align: middle;\n",
              "    }\n",
              "\n",
              "    .dataframe tbody tr th {\n",
              "        vertical-align: top;\n",
              "    }\n",
              "\n",
              "    .dataframe thead th {\n",
              "        text-align: right;\n",
              "    }\n",
              "</style>\n",
              "<table border=\"1\" class=\"dataframe\">\n",
              "  <thead>\n",
              "    <tr style=\"text-align: right;\">\n",
              "      <th></th>\n",
              "      <th>CATEGORY</th>\n",
              "      <th>MESSAGE</th>\n",
              "      <th>FILE_NAME</th>\n",
              "    </tr>\n",
              "  </thead>\n",
              "  <tbody>\n",
              "    <tr>\n",
              "      <th>0</th>\n",
              "      <td>1</td>\n",
              "      <td>\\n\\n&lt;HTML&gt;&lt;FONT  BACK=\"#ffffff\" style=\"BACKGRO...</td>\n",
              "      <td>00118.141d803810acd9d4fc23db103dddfcd9</td>\n",
              "    </tr>\n",
              "    <tr>\n",
              "      <th>1</th>\n",
              "      <td>1</td>\n",
              "      <td>&lt;html&gt;&lt;body bgColor=\"#CCCCCC\" topmargin=1 onMo...</td>\n",
              "      <td>00463.0bc4e08af0529dd773d9f10f922547db</td>\n",
              "    </tr>\n",
              "    <tr>\n",
              "      <th>2</th>\n",
              "      <td>0</td>\n",
              "      <td>Quoting Paul Linehan (plinehan@yahoo.com):\\n\\n...</td>\n",
              "      <td>00358.87ee38040ac1f42320c7b89628b1850a</td>\n",
              "    </tr>\n",
              "    <tr>\n",
              "      <th>3</th>\n",
              "      <td>0</td>\n",
              "      <td>&lt;a href=http://www.aaronsw.com/weblog/&gt;\\n\\nAar...</td>\n",
              "      <td>01274.0d083a2d3b30061efdc2cc73ee9e76e3</td>\n",
              "    </tr>\n",
              "    <tr>\n",
              "      <th>4</th>\n",
              "      <td>0</td>\n",
              "      <td>Oh yeah, the link for more info:\\n\\n\\n\\nhttp:/...</td>\n",
              "      <td>00756.2b2ec73ad20a4e0bdf31632ac019233b</td>\n",
              "    </tr>\n",
              "  </tbody>\n",
              "</table>\n",
              "</div>\n",
              "    <div class=\"colab-df-buttons\">\n",
              "\n",
              "  <div class=\"colab-df-container\">\n",
              "    <button class=\"colab-df-convert\" onclick=\"convertToInteractive('df-ad0dcb24-7074-4798-9e2f-0bc771465493')\"\n",
              "            title=\"Convert this dataframe to an interactive table.\"\n",
              "            style=\"display:none;\">\n",
              "\n",
              "  <svg xmlns=\"http://www.w3.org/2000/svg\" height=\"24px\" viewBox=\"0 -960 960 960\">\n",
              "    <path d=\"M120-120v-720h720v720H120Zm60-500h600v-160H180v160Zm220 220h160v-160H400v160Zm0 220h160v-160H400v160ZM180-400h160v-160H180v160Zm440 0h160v-160H620v160ZM180-180h160v-160H180v160Zm440 0h160v-160H620v160Z\"/>\n",
              "  </svg>\n",
              "    </button>\n",
              "\n",
              "  <style>\n",
              "    .colab-df-container {\n",
              "      display:flex;\n",
              "      gap: 12px;\n",
              "    }\n",
              "\n",
              "    .colab-df-convert {\n",
              "      background-color: #E8F0FE;\n",
              "      border: none;\n",
              "      border-radius: 50%;\n",
              "      cursor: pointer;\n",
              "      display: none;\n",
              "      fill: #1967D2;\n",
              "      height: 32px;\n",
              "      padding: 0 0 0 0;\n",
              "      width: 32px;\n",
              "    }\n",
              "\n",
              "    .colab-df-convert:hover {\n",
              "      background-color: #E2EBFA;\n",
              "      box-shadow: 0px 1px 2px rgba(60, 64, 67, 0.3), 0px 1px 3px 1px rgba(60, 64, 67, 0.15);\n",
              "      fill: #174EA6;\n",
              "    }\n",
              "\n",
              "    .colab-df-buttons div {\n",
              "      margin-bottom: 4px;\n",
              "    }\n",
              "\n",
              "    [theme=dark] .colab-df-convert {\n",
              "      background-color: #3B4455;\n",
              "      fill: #D2E3FC;\n",
              "    }\n",
              "\n",
              "    [theme=dark] .colab-df-convert:hover {\n",
              "      background-color: #434B5C;\n",
              "      box-shadow: 0px 1px 3px 1px rgba(0, 0, 0, 0.15);\n",
              "      filter: drop-shadow(0px 1px 2px rgba(0, 0, 0, 0.3));\n",
              "      fill: #FFFFFF;\n",
              "    }\n",
              "  </style>\n",
              "\n",
              "    <script>\n",
              "      const buttonEl =\n",
              "        document.querySelector('#df-ad0dcb24-7074-4798-9e2f-0bc771465493 button.colab-df-convert');\n",
              "      buttonEl.style.display =\n",
              "        google.colab.kernel.accessAllowed ? 'block' : 'none';\n",
              "\n",
              "      async function convertToInteractive(key) {\n",
              "        const element = document.querySelector('#df-ad0dcb24-7074-4798-9e2f-0bc771465493');\n",
              "        const dataTable =\n",
              "          await google.colab.kernel.invokeFunction('convertToInteractive',\n",
              "                                                    [key], {});\n",
              "        if (!dataTable) return;\n",
              "\n",
              "        const docLinkHtml = 'Like what you see? Visit the ' +\n",
              "          '<a target=\"_blank\" href=https://colab.research.google.com/notebooks/data_table.ipynb>data table notebook</a>'\n",
              "          + ' to learn more about interactive tables.';\n",
              "        element.innerHTML = '';\n",
              "        dataTable['output_type'] = 'display_data';\n",
              "        await google.colab.output.renderOutput(dataTable, element);\n",
              "        const docLink = document.createElement('div');\n",
              "        docLink.innerHTML = docLinkHtml;\n",
              "        element.appendChild(docLink);\n",
              "      }\n",
              "    </script>\n",
              "  </div>\n",
              "\n",
              "\n",
              "<div id=\"df-67ffcb42-f0b6-4f81-a6c7-52c80d8e2362\">\n",
              "  <button class=\"colab-df-quickchart\" onclick=\"quickchart('df-67ffcb42-f0b6-4f81-a6c7-52c80d8e2362')\"\n",
              "            title=\"Suggest charts\"\n",
              "            style=\"display:none;\">\n",
              "\n",
              "<svg xmlns=\"http://www.w3.org/2000/svg\" height=\"24px\"viewBox=\"0 0 24 24\"\n",
              "     width=\"24px\">\n",
              "    <g>\n",
              "        <path d=\"M19 3H5c-1.1 0-2 .9-2 2v14c0 1.1.9 2 2 2h14c1.1 0 2-.9 2-2V5c0-1.1-.9-2-2-2zM9 17H7v-7h2v7zm4 0h-2V7h2v10zm4 0h-2v-4h2v4z\"/>\n",
              "    </g>\n",
              "</svg>\n",
              "  </button>\n",
              "\n",
              "<style>\n",
              "  .colab-df-quickchart {\n",
              "      --bg-color: #E8F0FE;\n",
              "      --fill-color: #1967D2;\n",
              "      --hover-bg-color: #E2EBFA;\n",
              "      --hover-fill-color: #174EA6;\n",
              "      --disabled-fill-color: #AAA;\n",
              "      --disabled-bg-color: #DDD;\n",
              "  }\n",
              "\n",
              "  [theme=dark] .colab-df-quickchart {\n",
              "      --bg-color: #3B4455;\n",
              "      --fill-color: #D2E3FC;\n",
              "      --hover-bg-color: #434B5C;\n",
              "      --hover-fill-color: #FFFFFF;\n",
              "      --disabled-bg-color: #3B4455;\n",
              "      --disabled-fill-color: #666;\n",
              "  }\n",
              "\n",
              "  .colab-df-quickchart {\n",
              "    background-color: var(--bg-color);\n",
              "    border: none;\n",
              "    border-radius: 50%;\n",
              "    cursor: pointer;\n",
              "    display: none;\n",
              "    fill: var(--fill-color);\n",
              "    height: 32px;\n",
              "    padding: 0;\n",
              "    width: 32px;\n",
              "  }\n",
              "\n",
              "  .colab-df-quickchart:hover {\n",
              "    background-color: var(--hover-bg-color);\n",
              "    box-shadow: 0 1px 2px rgba(60, 64, 67, 0.3), 0 1px 3px 1px rgba(60, 64, 67, 0.15);\n",
              "    fill: var(--button-hover-fill-color);\n",
              "  }\n",
              "\n",
              "  .colab-df-quickchart-complete:disabled,\n",
              "  .colab-df-quickchart-complete:disabled:hover {\n",
              "    background-color: var(--disabled-bg-color);\n",
              "    fill: var(--disabled-fill-color);\n",
              "    box-shadow: none;\n",
              "  }\n",
              "\n",
              "  .colab-df-spinner {\n",
              "    border: 2px solid var(--fill-color);\n",
              "    border-color: transparent;\n",
              "    border-bottom-color: var(--fill-color);\n",
              "    animation:\n",
              "      spin 1s steps(1) infinite;\n",
              "  }\n",
              "\n",
              "  @keyframes spin {\n",
              "    0% {\n",
              "      border-color: transparent;\n",
              "      border-bottom-color: var(--fill-color);\n",
              "      border-left-color: var(--fill-color);\n",
              "    }\n",
              "    20% {\n",
              "      border-color: transparent;\n",
              "      border-left-color: var(--fill-color);\n",
              "      border-top-color: var(--fill-color);\n",
              "    }\n",
              "    30% {\n",
              "      border-color: transparent;\n",
              "      border-left-color: var(--fill-color);\n",
              "      border-top-color: var(--fill-color);\n",
              "      border-right-color: var(--fill-color);\n",
              "    }\n",
              "    40% {\n",
              "      border-color: transparent;\n",
              "      border-right-color: var(--fill-color);\n",
              "      border-top-color: var(--fill-color);\n",
              "    }\n",
              "    60% {\n",
              "      border-color: transparent;\n",
              "      border-right-color: var(--fill-color);\n",
              "    }\n",
              "    80% {\n",
              "      border-color: transparent;\n",
              "      border-right-color: var(--fill-color);\n",
              "      border-bottom-color: var(--fill-color);\n",
              "    }\n",
              "    90% {\n",
              "      border-color: transparent;\n",
              "      border-bottom-color: var(--fill-color);\n",
              "    }\n",
              "  }\n",
              "</style>\n",
              "\n",
              "  <script>\n",
              "    async function quickchart(key) {\n",
              "      const quickchartButtonEl =\n",
              "        document.querySelector('#' + key + ' button');\n",
              "      quickchartButtonEl.disabled = true;  // To prevent multiple clicks.\n",
              "      quickchartButtonEl.classList.add('colab-df-spinner');\n",
              "      try {\n",
              "        const charts = await google.colab.kernel.invokeFunction(\n",
              "            'suggestCharts', [key], {});\n",
              "      } catch (error) {\n",
              "        console.error('Error during call to suggestCharts:', error);\n",
              "      }\n",
              "      quickchartButtonEl.classList.remove('colab-df-spinner');\n",
              "      quickchartButtonEl.classList.add('colab-df-quickchart-complete');\n",
              "    }\n",
              "    (() => {\n",
              "      let quickchartButtonEl =\n",
              "        document.querySelector('#df-67ffcb42-f0b6-4f81-a6c7-52c80d8e2362 button');\n",
              "      quickchartButtonEl.style.display =\n",
              "        google.colab.kernel.accessAllowed ? 'block' : 'none';\n",
              "    })();\n",
              "  </script>\n",
              "</div>\n",
              "\n",
              "    </div>\n",
              "  </div>\n"
            ],
            "application/vnd.google.colaboratory.intrinsic+json": {
              "type": "dataframe",
              "variable_name": "train_df",
              "summary": "{\n  \"name\": \"train_df\",\n  \"rows\": 4636,\n  \"fields\": [\n    {\n      \"column\": \"CATEGORY\",\n      \"properties\": {\n        \"dtype\": \"number\",\n        \"std\": 0,\n        \"min\": 0,\n        \"max\": 1,\n        \"num_unique_values\": 2,\n        \"samples\": [\n          0,\n          1\n        ],\n        \"semantic_type\": \"\",\n        \"description\": \"\"\n      }\n    },\n    {\n      \"column\": \"MESSAGE\",\n      \"properties\": {\n        \"dtype\": \"string\",\n        \"num_unique_values\": 4519,\n        \"samples\": [\n          \"On Wed, 24 Jul 2002, Tom wrote:\\n\\n\\n\\n> \\\"Around the world, there is a growing sense that democracy has not\\n\\n> delivered development\\\" Sakiko Fukuda-Parr UN report author\\n\\n\\n\\nOr perhaps it is the unregulated and out of control capitalism used as a\\n\\ntool to concentrate wealth and form a greed-based society?\\n\\n\\n\\nI notice the top 5 have a good amount of socialism in their systems to\\n\\nregulate the capitalism, especially in things like health care and\\n\\neducation.\\n\\n\\n\\nJust look at our health care - no insurance = no care. Or education - gimme\\n\\nmy voucher so I can get my kids out of the system while their IQ is still\\n\\nover 20.\\n\\n\\n\\nSouth American countries are currently figuring out just where this\\n\\ngreed-based system ends up, and are looking for a way out.\\n\\n\\n\\nIt was a fun ride tho wasnt it?\\n\\n\\n\\n- Adam L. \\\"Duncan\\\" Beberg\\n\\n  http://www.mithral.com/~beberg/\\n\\n  beberg@mithral.com\\n\\n\\n\\n\\n\\nhttp://xent.com/mailman/listinfo/fork\\n\\n\\n\\n\\n\",\n          \">  OK, I guess that sysctl.conf is the best way of setting\\n\\n>\\n\\n>     /proc/sys/fs/file-max\\n\\n>\\n\\n>  to a nice big number. Can you make a change to /etc/sysctl.conf, and then\\n\\n> have it take effect, without a reboot (to test it, really) ?\\n\\n\\n\\nman sysctl\\n\\n\\n\\n   # sysctl -p\\n\\n\\n\\nLater,\\n\\nKenn\\n\\n\\n\\n\\n\\n-- \\n\\nIrish Linux Users' Group: ilug@linux.ie\\n\\nhttp://www.linux.ie/mailman/listinfo/ilug for (un)subscription information.\\n\\nList maintainer: listmaster@linux.ie\\n\\n\\n\\n\\n\"\n        ],\n        \"semantic_type\": \"\",\n        \"description\": \"\"\n      }\n    },\n    {\n      \"column\": \"FILE_NAME\",\n      \"properties\": {\n        \"dtype\": \"string\",\n        \"num_unique_values\": 4636,\n        \"samples\": [\n          \"01024.5b32720b2ad57ee16bd959a5cf58f575\",\n          \"00934.f9ba910a655535304bf26a3e281cb324\"\n        ],\n        \"semantic_type\": \"\",\n        \"description\": \"\"\n      }\n    }\n  ]\n}"
            }
          },
          "metadata": {},
          "execution_count": 12
        }
      ]
    },
    {
      "cell_type": "markdown",
      "source": [
        "### PERFORM ALL THE OPERATIONS ABOVE ON THE DATASET: Message"
      ],
      "metadata": {
        "id": "IZ2aSdCVJzvm"
      }
    },
    {
      "cell_type": "code",
      "source": [
        "token_counter = {}\n",
        "\n",
        "for message in train_df['MESSAGE']:\n",
        "    transforming_text = transform_text(message)\n",
        "\n",
        "    for token in transforming_text:\n",
        "        # Frequency of each word. If found, increment the value to 1.\n",
        "        if token in token_counter:\n",
        "            token_counter[token] += 1\n",
        "        else: # If not found, store and set the value to 1.\n",
        "            token_counter[token] = 1"
      ],
      "metadata": {
        "id": "hb8Lcue2pnhg"
      },
      "execution_count": 13,
      "outputs": []
    },
    {
      "cell_type": "code",
      "source": [
        "import seaborn as sns\n",
        "\n",
        "sorted_dict = dict(sorted(token_counter.items(),\n",
        "                         key=lambda x: x[1],\n",
        "                         reverse=True)[:20])\n",
        "\n",
        "plt.figure(figsize=(10, 6))\n",
        "plt.bar(sorted_dict.keys(), sorted_dict.values())\n",
        "plt.title('Top 20 Most Frequent Words', fontsize=14, pad=20)\n",
        "plt.xlabel('Words', fontsize=12)\n",
        "plt.ylabel('Frequency', fontsize=12)\n",
        "plt.xticks(rotation=45, ha='right')\n",
        "plt.tight_layout()\n",
        "\n",
        "plt.show()"
      ],
      "metadata": {
        "colab": {
          "base_uri": "https://localhost:8080/",
          "height": 606
        },
        "id": "ZyFF8Ug-pnmT",
        "outputId": "76a569db-f282-448a-9c7c-0a6087bbe3c3"
      },
      "execution_count": 14,
      "outputs": [
        {
          "output_type": "display_data",
          "data": {
            "text/plain": [
              "<Figure size 1000x600 with 1 Axes>"
            ],
            "image/png": "[encoded data removed]"
          },
          "metadata": {}
        }
      ]
    },
    {
      "cell_type": "code",
      "source": [
        "def keep_token(processed_token, threshold):\n",
        "    '''\n",
        "    Return all the token that have more than 1 count.\n",
        "    '''\n",
        "\n",
        "    if processed_token not in token_counter:\n",
        "        return False\n",
        "    else:\n",
        "        train_df\n",
        "        return token_counter[processed_token] > threshold"
      ],
      "metadata": {
        "id": "cUhI_QW0Ou2U"
      },
      "execution_count": 15,
      "outputs": []
    },
    {
      "cell_type": "code",
      "source": [
        "# Parse through the set\n",
        "features = set()\n",
        "\n",
        "for token in token_counter:\n",
        "    if keep_token(token, 10000):\n",
        "        features.add(token)\n",
        "\n",
        "features"
      ],
      "metadata": {
        "colab": {
          "base_uri": "https://localhost:8080/"
        },
        "id": "WamhMeGg3eSu",
        "outputId": "77358aba-901f-4872-afe4-f66e6c419aac"
      },
      "execution_count": 16,
      "outputs": [
        {
          "output_type": "execute_result",
          "data": {
            "text/plain": [
              "{'3d', 'b', 'br', 'com', 'font', 'http', 'p', 'size', 'td', 'tr'}"
            ]
          },
          "metadata": {},
          "execution_count": 16
        }
      ]
    },
    {
      "cell_type": "code",
      "source": [
        "features = list(features)\n",
        "features"
      ],
      "metadata": {
        "colab": {
          "base_uri": "https://localhost:8080/"
        },
        "id": "Uj6wdCK83tCk",
        "outputId": "539b06e7-813f-4f01-f3ad-6aaaaed8c114"
      },
      "execution_count": 17,
      "outputs": [
        {
          "output_type": "execute_result",
          "data": {
            "text/plain": [
              "['com', 'p', 'http', 'font', 'size', 'tr', '3d', 'b', 'br', 'td']"
            ]
          },
          "metadata": {},
          "execution_count": 17
        }
      ]
    },
    {
      "cell_type": "code",
      "source": [
        "# token to index mapping - Converting a word to a number/integer\n",
        "token_to_index = {t:i for t, i in zip(features, range(len(features)))}\n",
        "token_to_index"
      ],
      "metadata": {
        "colab": {
          "base_uri": "https://localhost:8080/"
        },
        "id": "8Qh8KZj74F0Q",
        "outputId": "351601cc-f2a5-4c0f-d8f8-306e0145a51d"
      },
      "execution_count": 18,
      "outputs": [
        {
          "output_type": "execute_result",
          "data": {
            "text/plain": [
              "{'com': 0,\n",
              " 'p': 1,\n",
              " 'http': 2,\n",
              " 'font': 3,\n",
              " 'size': 4,\n",
              " 'tr': 5,\n",
              " '3d': 6,\n",
              " 'b': 7,\n",
              " 'br': 8,\n",
              " 'td': 9}"
            ]
          },
          "metadata": {},
          "execution_count": 18
        }
      ]
    },
    {
      "cell_type": "markdown",
      "source": [
        "## BAG OF WORDS"
      ],
      "metadata": {
        "id": "7kXJUsjj8_bS"
      }
    },
    {
      "cell_type": "code",
      "source": [
        "import numpy as np\n",
        "\n",
        "def msg_to_count(message):\n",
        "    count_vector = np.zeros(len(features))\n",
        "    processed_list_of_tokens =  transform_text(message)\n",
        "\n",
        "    for token in processed_list_of_tokens:\n",
        "        if token not in features:\n",
        "            continue\n",
        "        index = token_to_index[token]\n",
        "        count_vector[index] += 1\n",
        "    return count_vector"
      ],
      "metadata": {
        "id": "V1WUHjlW8k3S"
      },
      "execution_count": 19,
      "outputs": []
    },
    {
      "cell_type": "code",
      "source": [
        "msg_to_count(train_df['MESSAGE'].iloc[0])"
      ],
      "metadata": {
        "colab": {
          "base_uri": "https://localhost:8080/"
        },
        "id": "aU7GjA_09zsq",
        "outputId": "92045fdd-c3e1-4885-f040-611ca92c6291"
      },
      "execution_count": 20,
      "outputs": [
        {
          "output_type": "execute_result",
          "data": {
            "text/plain": [
              "array([ 9.,  0.,  6.,  4.,  2.,  0.,  0.,  2., 33.,  0.])"
            ]
          },
          "metadata": {},
          "execution_count": 20
        }
      ]
    },
    {
      "cell_type": "code",
      "source": [
        "train_df.iloc[0]"
      ],
      "metadata": {
        "colab": {
          "base_uri": "https://localhost:8080/",
          "height": 178
        },
        "id": "eUziMGl2-N8e",
        "outputId": "07cbc3aa-4d9b-44aa-ded4-0f7dac8b9818"
      },
      "execution_count": 21,
      "outputs": [
        {
          "output_type": "execute_result",
          "data": {
            "text/plain": [
              "CATEGORY                                                     1\n",
              "MESSAGE      \\n\\n<HTML><FONT  BACK=\"#ffffff\" style=\"BACKGRO...\n",
              "FILE_NAME               00118.141d803810acd9d4fc23db103dddfcd9\n",
              "Name: 0, dtype: object"
            ],
            "text/html": [
              "<div>\n",
              "<style scoped>\n",
              "    .dataframe tbody tr th:only-of-type {\n",
              "        vertical-align: middle;\n",
              "    }\n",
              "\n",
              "    .dataframe tbody tr th {\n",
              "        vertical-align: top;\n",
              "    }\n",
              "\n",
              "    .dataframe thead th {\n",
              "        text-align: right;\n",
              "    }\n",
              "</style>\n",
              "<table border=\"1\" class=\"dataframe\">\n",
              "  <thead>\n",
              "    <tr style=\"text-align: right;\">\n",
              "      <th></th>\n",
              "      <th>0</th>\n",
              "    </tr>\n",
              "  </thead>\n",
              "  <tbody>\n",
              "    <tr>\n",
              "      <th>CATEGORY</th>\n",
              "      <td>1</td>\n",
              "    </tr>\n",
              "    <tr>\n",
              "      <th>MESSAGE</th>\n",
              "      <td>\\n\\n&lt;HTML&gt;&lt;FONT  BACK=\"#ffffff\" style=\"BACKGRO...</td>\n",
              "    </tr>\n",
              "    <tr>\n",
              "      <th>FILE_NAME</th>\n",
              "      <td>00118.141d803810acd9d4fc23db103dddfcd9</td>\n",
              "    </tr>\n",
              "  </tbody>\n",
              "</table>\n",
              "</div><br><label><b>dtype:</b> object</label>"
            ]
          },
          "metadata": {},
          "execution_count": 21
        }
      ]
    },
    {
      "cell_type": "markdown",
      "source": [
        "## TRAINING AND TESTING"
      ],
      "metadata": {
        "id": "P-B-aaVh-1Qi"
      }
    },
    {
      "cell_type": "code",
      "source": [
        "def x_y(df):\n",
        "    y = df['CATEGORY'].to_numpy().astype(int)\n",
        "\n",
        "    msg = df['MESSAGE']\n",
        "    count_vectors = []\n",
        "\n",
        "    for message in msg:\n",
        "        count_vector = msg_to_count(message)\n",
        "        count_vectors.append(count_vector)\n",
        "\n",
        "    x = np.array(count_vectors).astype(int)\n",
        "\n",
        "    return x, y"
      ],
      "metadata": {
        "id": "WcEbqF0SKvjC"
      },
      "execution_count": 22,
      "outputs": []
    },
    {
      "cell_type": "code",
      "source": [
        "x_train, y_train = x_y(train_df)\n",
        "x_test, y_test =  x_y(test_df)\n",
        "\n",
        "x_train.shape, y_train.shape, x_test.shape, y_test.shape"
      ],
      "metadata": {
        "colab": {
          "base_uri": "https://localhost:8080/"
        },
        "id": "lRbG-_wZ-sdt",
        "outputId": "3fa4ba32-ffae-480d-d59a-733d598bd95d"
      },
      "execution_count": 23,
      "outputs": [
        {
          "output_type": "execute_result",
          "data": {
            "text/plain": [
              "((4636, 10), (4636,), (1160, 10), (1160,))"
            ]
          },
          "metadata": {},
          "execution_count": 23
        }
      ]
    },
    {
      "cell_type": "code",
      "source": [
        "from sklearn.preprocessing import MinMaxScaler\n",
        "scaler = MinMaxScaler()\n",
        "scaler = scaler.fit(x_train)\n",
        "\n",
        "x_train, x_test = scaler.transform(x_train), scaler.transform(x_test)\n",
        "x_train, x_test"
      ],
      "metadata": {
        "id": "Z7oqkWSOXwUH",
        "colab": {
          "base_uri": "https://localhost:8080/"
        },
        "outputId": "cd8e9d20-90c1-4b6a-efbc-df95c3fe5e82"
      },
      "execution_count": 24,
      "outputs": [
        {
          "output_type": "execute_result",
          "data": {
            "text/plain": [
              "(array([[0.04265403, 0.        , 0.025     , ..., 0.00985222, 0.04064039,\n",
              "         0.        ],\n",
              "        [0.00947867, 0.04065041, 0.00833333, ..., 0.0591133 , 0.0270936 ,\n",
              "         0.01346801],\n",
              "        [0.00473934, 0.00406504, 0.00416667, ..., 0.        , 0.        ,\n",
              "         0.        ],\n",
              "        ...,\n",
              "        [0.00947867, 0.        , 0.00416667, ..., 0.        , 0.        ,\n",
              "         0.        ],\n",
              "        [0.00947867, 0.        , 0.00416667, ..., 0.        , 0.        ,\n",
              "         0.        ],\n",
              "        [0.01895735, 0.00406504, 0.0125    , ..., 0.        , 0.        ,\n",
              "         0.        ]]),\n",
              " array([[0.00947867, 0.        , 0.01666667, ..., 0.        , 0.        ,\n",
              "         0.        ],\n",
              "        [0.        , 0.        , 0.        , ..., 0.        , 0.        ,\n",
              "         0.        ],\n",
              "        [0.00947867, 0.        , 0.01666667, ..., 0.        , 0.        ,\n",
              "         0.        ],\n",
              "        ...,\n",
              "        [0.00473934, 0.        , 0.00416667, ..., 0.        , 0.        ,\n",
              "         0.        ],\n",
              "        [0.00473934, 0.01626016, 0.00833333, ..., 0.15763547, 0.0135468 ,\n",
              "         0.02693603],\n",
              "        [0.01895735, 0.        , 0.00833333, ..., 0.        , 0.        ,\n",
              "         0.        ]]))"
            ]
          },
          "metadata": {},
          "execution_count": 24
        }
      ]
    },
    {
      "cell_type": "code",
      "source": [
        "from sklearn.linear_model import LogisticRegression\n",
        "from sklearn.metrics import classification_report\n",
        "\n",
        "lr = LogisticRegression()\n",
        "lr.fit(x_train, y_train)\n",
        "y_pred = lr.predict(x_test)\n",
        "\n",
        "print(classification_report(y_test, y_pred))"
      ],
      "metadata": {
        "colab": {
          "base_uri": "https://localhost:8080/"
        },
        "id": "8RpW4LeAEpuJ",
        "outputId": "8f9c394d-5202-4cb9-ddda-aac3f66e962b"
      },
      "execution_count": 25,
      "outputs": [
        {
          "output_type": "stream",
          "name": "stdout",
          "text": [
            "              precision    recall  f1-score   support\n",
            "\n",
            "           0       0.76      1.00      0.86       788\n",
            "           1       0.99      0.32      0.48       372\n",
            "\n",
            "    accuracy                           0.78      1160\n",
            "   macro avg       0.87      0.66      0.67      1160\n",
            "weighted avg       0.83      0.78      0.74      1160\n",
            "\n"
          ]
        }
      ]
    },
    {
      "cell_type": "markdown",
      "source": [
        "The classification report suggests that the model is biased when predicting \"1\" and \"0\" due to class imbalancement. \\\n",
        "While the accuracy looks decent, the recall metrics for \"1\" is deceiving.\n",
        "\n",
        "Bias has to be taken care of when tuning the model.\n",
        "-- Upsampling and Downsampling using SMOTE or other techniques that leverages distribution to create new datapoints or drop the existing points."
      ],
      "metadata": {
        "id": "BSwLDbRgcsIx"
      }
    },
    {
      "cell_type": "code",
      "source": [
        "# Compare Logistic Regression model to Random Forest\n",
        "\n",
        "from sklearn.ensemble import RandomForestClassifier\n",
        "\n",
        "rf = RandomForestClassifier().fit(x_train, y_train)\n",
        "print(classification_report(y_test, rf.predict(x_test)))"
      ],
      "metadata": {
        "colab": {
          "base_uri": "https://localhost:8080/"
        },
        "id": "6KCdUUjHQzRO",
        "outputId": "385b55f6-cc5e-4a5a-cf88-6f1dba82982b"
      },
      "execution_count": 30,
      "outputs": [
        {
          "output_type": "stream",
          "name": "stdout",
          "text": [
            "              precision    recall  f1-score   support\n",
            "\n",
            "           0       0.83      0.97      0.89       788\n",
            "           1       0.90      0.56      0.69       372\n",
            "\n",
            "    accuracy                           0.84      1160\n",
            "   macro avg       0.86      0.77      0.79      1160\n",
            "weighted avg       0.85      0.84      0.83      1160\n",
            "\n"
          ]
        }
      ]
    },
    {
      "cell_type": "markdown",
      "source": [
        "# **Comparison of Classification Models: Original Model vs. Random Forest**\n",
        "\n",
        "## **1. Introduction**\n",
        "In this analysis, we compare the performance of two classification models: an original model Logistic Regression and a Random Forest model. We will evaluate them using the classification report, which provides **precision, recall, F1-score, and support** for each class.\n",
        "\n",
        "## **2. Classification Report Explanation**\n",
        "A classification report contains key evaluation metrics:\n",
        "- **Precision**: The proportion of true positives among predicted positives. High precision means fewer false positives.\n",
        "- **Recall**: The proportion of true positives detected out of all actual positives. High recall means fewer false negatives.\n",
        "- **F1-score**: The harmonic mean of precision and recall. It balances the two metrics.\n",
        "- **Support**: The number of actual occurrences of each class in the dataset.\n",
        "\n",
        "## **3. Model Comparison**\n",
        "\n",
        "### **Original Model Performance**\n",
        "```\n",
        "              precision    recall  f1-score   support\n",
        "\n",
        "           0       0.76      1.00      0.86       788\n",
        "           1       0.99      0.32      0.48       372\n",
        "\n",
        "    accuracy                           0.78      1160\n",
        "   macro avg       0.87      0.66      0.67      1160\n",
        "weighted avg       0.83      0.78      0.74      1160\n",
        "```\n",
        "\n",
        "### **Random Forest Performance**\n",
        "```\n",
        "              precision    recall  f1-score   support\n",
        "\n",
        "           0       0.83      0.97      0.89       788\n",
        "           1       0.90      0.56      0.69       372\n",
        "\n",
        "    accuracy                           0.84      1160\n",
        "   macro avg       0.86      0.77      0.79      1160\n",
        "weighted avg       0.85      0.84      0.83      1160\n",
        "```\n",
        "\n",
        "## **4. Key Observations**\n",
        "\n",
        "| Metric      | Logisic Regression | Random Forest | Improvement? |\n",
        "|------------|---------------|---------------|-------------|\n",
        "| **Precision (Class 0)** | 0.76 | 0.83 | ✅ Higher (fewer false positives) |\n",
        "| **Recall (Class 0)** | 1.00 | 0.97 | 🔻 Slightly lower (more false negatives) |\n",
        "| **F1-Score (Class 0)** | 0.86 | 0.89 | ✅ Higher overall balance |\n",
        "| **Precision (Class 1)** | 0.99 | 0.90 | 🔻 Lower, but more balanced |\n",
        "| **Recall (Class 1)** | 0.32 | 0.56 | ✅ Much higher (fewer false negatives) |\n",
        "| **F1-Score (Class 1)** | 0.48 | 0.69 | ✅ Big improvement |\n",
        "| **Accuracy** | 0.78 | 0.84 | ✅ Higher overall accuracy |\n",
        "| **Macro Average Recall** | 0.66 | 0.77 | ✅ More balanced recall across classes |\n",
        "| **Weighted Average F1-Score** | 0.74 | 0.83 | ✅ Improved overall performance |\n",
        "\n",
        "## **5. Conclusion: Which Model is Better?**\n",
        "✅ **Random Forest is the better model overall** because:\n",
        "- It **improves recall for Class 1**, meaning fewer false negatives.\n",
        "- It **maintains high precision while reducing bias towards Class 0**.\n",
        "- It **improves overall accuracy and F1-score**, leading to better balance between precision and recall.\n",
        "\n",
        "📌 However, if **precision for Class 1 was the most important metric (e.g., fraud detection, medical diagnosis where false positives are costly)**, the original model might be preferred. Otherwise, **Random Forest is the better choice for a well-balanced classification task.**\n"
      ],
      "metadata": {
        "id": "uP8iIcUTme3L"
      }
    },
    {
      "cell_type": "code",
      "source": [],
      "metadata": {
        "id": "a2V772pEZgTK"
      },
      "execution_count": null,
      "outputs": []
    }
  ]
}
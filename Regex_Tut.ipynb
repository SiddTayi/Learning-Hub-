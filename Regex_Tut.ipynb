{
  "nbformat": 4,
  "nbformat_minor": 0,
  "metadata": {
    "colab": {
      "provenance": [],
      "authorship_tag": "ABX9TyNtbHewoUpGva0/hr3Xrwdo"
    },
    "kernelspec": {
      "name": "python3",
      "display_name": "Python 3"
    },
    "language_info": {
      "name": "python"
    }
  },
  "cells": [
    {
      "cell_type": "markdown",
      "source": [
        "# Simple literal match\n",
        "pattern = \"hello\"  # Matches exactly \"hello\"\n",
        "\n",
        "# Any single character\n",
        "\".\" # Matches any character except newline\\\n",
        "pattern = \"h.t\"  # Matches \"hot\", \"hat\", \"h@t\", etc.\n",
        "\n",
        "# Character classes\n",
        "\"[abc]\"  # Matches any one character in brackets\\\n",
        "\"[^abc]\"  # Matches any character NOT in brackets\\\n",
        "\"[a-z]\"   # Matches any lowercase letter\\\n",
        "\"[A-Z]\"   # Matches any uppercase letter\\\n",
        "\"[0-9]\"   # Matches any digit\n",
        "\n",
        "# Predefined character classes\n",
        "\"\\d\"  # Any digit [0-9]\\\n",
        "\"\\D\"  # Any non-digit [^0-9]\\\n",
        "\"\\w\"  # Any word character [a-zA-Z0-9_]\\\n",
        "\"\\W\"  # Any non-word character\\\n",
        "\"\\s\"  # Any whitespace (space, tab, newline)\\\n",
        "\"\\S\"  # Any non-whitespace"
      ],
      "metadata": {
        "id": "X7FsJ7CZujka"
      }
    },
    {
      "cell_type": "markdown",
      "source": [
        "# Basic quantifiers\n",
        "\"*\"      # 0 or more occurrences\\\n",
        "\"+\"      # 1 or more occurrences\\\n",
        "\"?\"      # 0 or 1 occurrence\\\n",
        "\"{n}\"    # Exactly n occurrences\\\n",
        "\"{n,}\"   # n or more occurrences\\\n",
        "\"{n,m}\"  # Between n and m occurrences\n",
        "\n",
        "import re\n",
        "\n",
        "# Examples\n",
        "pattern = r\"ca*t\"    # Matches \"ct\", \"cat\", \"caat\", etc.\\\n",
        "pattern = r\"ca+t\"    # Matches \"cat\", \"caat\", but not \"ct\"\\\n",
        "pattern = r\"colou?r\" # Matches \"color\" or \"colour\"\\\n",
        "pattern = r\"\\d{3}\"   # Matches exactly 3 digits\\\n",
        "pattern = r\"\\d{2,4}\" # Matches 2 to 4 digits"
      ],
      "metadata": {
        "id": "6DJHDDrtunSH"
      }
    },
    {
      "cell_type": "markdown",
      "source": [
        "\"^\"      # Start of string/line\\\n",
        "\"$\"      # End of string/line\\\n",
        "\"\\b\"     # Word boundary\\\n",
        "\"\\B\"     # Not a word boundary\n",
        "\n",
        "# Examples\n",
        "pattern = r\"^Start\"  # String must start with \"Start\"\\\n",
        "pattern = r\"end$\"    # String must end with \"end\"\\\n",
        "pattern = r\"\\bcat\\b\" # Matches \"cat\" but not \"category\""
      ],
      "metadata": {
        "id": "fgHRb11Yu4xS"
      }
    },
    {
      "cell_type": "markdown",
      "source": [
        "# Grouping with ()\n",
        "(...)     # Capturing group\\\n",
        "(?:...)   # Non-capturing group\\\n",
        "(?P<name>...) # Named group\n",
        "\n",
        "import re\n",
        "\n",
        "# Example of groups\n",
        "text = \"John Doe, Jane Doe\"\\\n",
        "pattern = r\"(\\w+) (\\w+)\"\\\n",
        "matches = re.findall(pattern, text)\\\n",
        "print(matches)  # [('John', 'Doe'), ('Jane', 'Doe')]\\\n",
        "\n",
        "# Named groups\n",
        "pattern = r\"(?P<first>\\w+) (?P<last>\\w+)\"\\\n",
        "match = re.search(pattern, \"John Doe\")\\\n",
        "print(match.group('first'))  # John"
      ],
      "metadata": {
        "id": "1tmNirCbvG7w"
      }
    },
    {
      "cell_type": "code",
      "source": [
        "import re\n",
        "\n",
        "# Example of groups\n",
        "text = \"John Doe, Jane Doe\"\n",
        "pattern = r\"(\\w+) (\\w+)\"\n",
        "matches = re.findall(pattern, text)\n",
        "print(matches)  # [('John', 'Doe'), ('Jane', 'Doe')]\n",
        "\n",
        "# Named groups\n",
        "pattern = r\"(?P<first>\\w+) (?P<last>\\w+)\"\n",
        "match = re.search(pattern, \"John Doe\")\n",
        "print(match.group('first'))  # John"
      ],
      "metadata": {
        "colab": {
          "base_uri": "https://localhost:8080/"
        },
        "id": "_Xv8wg9DvMoI",
        "outputId": "5e2bfb3e-0dca-46d1-db58-a4889277a35e"
      },
      "execution_count": 2,
      "outputs": [
        {
          "output_type": "stream",
          "name": "stdout",
          "text": [
            "[('John', 'Doe'), ('Jane', 'Doe')]\n",
            "John\n"
          ]
        }
      ]
    },
    {
      "cell_type": "code",
      "execution_count": 1,
      "metadata": {
        "colab": {
          "base_uri": "https://localhost:8080/"
        },
        "id": "Tmdk1RP4uaKe",
        "outputId": "819d03f6-6af6-4607-c053-c1dca5b3247f"
      },
      "outputs": [
        {
          "output_type": "stream",
          "name": "stdout",
          "text": [
            "True\n",
            "True\n",
            "True\n",
            "False\n",
            "False\n",
            "False\n",
            "False\n"
          ]
        }
      ],
      "source": [
        "import re\n",
        "\n",
        "def validate_email(email):\n",
        "    pattern = r\"^[\\w\\.-]+@[\\w\\.-]+\\.\\w+$\"\n",
        "    return bool(re.match(pattern, email))\n",
        "\n",
        "# Valid emails\n",
        "print(validate_email(\"john@gmail.com\"))         # True\n",
        "print(validate_email(\"john.doe@my-site.com\"))   # True\n",
        "print(validate_email(\"user123@sub.domain.org\")) # True\n",
        "\n",
        "# Invalid emails\n",
        "print(validate_email(\"john@.com\"))              # False (missing domain)\n",
        "print(validate_email(\"@gmail.com\"))             # False (missing username)\n",
        "print(validate_email(\"john@gmail\"))             # False (missing top-level domain)\n",
        "print(validate_email(\"john@gm@il.com\"))         # False (multiple @)"
      ]
    },
    {
      "cell_type": "markdown",
      "source": [
        "\n",
        "\n",
        "```\n",
        "pattern = r\"^[\\w\\.-]+@[\\w\\.-]+\\.\\w+$\"\n",
        "\n",
        "```\n",
        "\n",
        "\n",
        "\n",
        "1. ^ : Marks the start of the string\n",
        "    - Ensures pattering matching begins from the start\n",
        "\n",
        "2. [ \\ w \\\\. -]  --> First part: Username\n",
        "    - \\w : matches any word charater (number, letters, underscore)\n",
        "    - \\\\. is a period\n",
        "    - \\- is a dash\n",
        "\n",
        "3. @: Means @\n",
        "\n",
        "4. [ \\ w \\\\. -] + --> Second part of username\n",
        "    - Same pattern as the first part\n",
        "    - Matches domains like: \"gmail\", \"yahoo\", etc\n",
        "\n",
        "5. \\\\. is a period\n",
        "\n",
        "6. \\w+: matches one or more word characters\n",
        "\n",
        "7. $: End of string"
      ],
      "metadata": {
        "id": "iSZwjXAdwuSd"
      }
    },
    {
      "cell_type": "code",
      "source": [
        "import re\n",
        "\n",
        "# Email validation\n",
        "email_pattern = r\"^[\\w\\.-]+@[\\w\\.-]+\\.\\w+$\"\n",
        "print(re.match(email_pattern, \"user@example.com\"))\n",
        "\n",
        "# Phone number format\n",
        "phone_pattern = r\"^\\+?1?\\d{9,15}$\"\n",
        "print(re.match(phone_pattern, \"+123456789\"))\n",
        "\n",
        "# Extract URLs\n",
        "url_pattern = r'https?://(?:[-\\w.]|(?:%[\\da-fA-F]{2}))+'\n",
        "text = 'https://www.kaggle.com/'\n",
        "urls = re.findall(url_pattern, text)\n",
        "\n",
        "# Parse log files\n",
        "#log_pattern = r'(\\d{4}-\\d{2}-\\d{2}) (\\d{2}:\\d{2}:\\d{2}) \\[(\\w+)\\] (.*)'\n",
        "#matches = re.finditer(log_pattern, log_text)"
      ],
      "metadata": {
        "colab": {
          "base_uri": "https://localhost:8080/"
        },
        "id": "635aBComuf_3",
        "outputId": "867c14f9-d2d6-497c-8990-70075917fc7a"
      },
      "execution_count": 5,
      "outputs": [
        {
          "output_type": "stream",
          "name": "stdout",
          "text": [
            "<re.Match object; span=(0, 16), match='user@example.com'>\n",
            "<re.Match object; span=(0, 10), match='+123456789'>\n"
          ]
        }
      ]
    },
    {
      "cell_type": "code",
      "source": [],
      "metadata": {
        "id": "n7a6Msu9AOQY"
      },
      "execution_count": null,
      "outputs": []
    }
  ]
}